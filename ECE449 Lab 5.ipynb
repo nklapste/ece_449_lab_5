{
 "cells": [
  {
   "cell_type": "markdown",
   "metadata": {},
   "source": [
    "<h1><center>ECE 449 - Intelligent Systems Engineering<br><br>\n",
    "Lab 5: Genetic Algorithms</center></h1>\n",
    "<hr>\n",
    "**Lab date:** *Thursday, November 30, 2017 -- 2:00 - 4:50 PM*\n",
    "<br>\n",
    "**Room:** *ETLC E5-013*\n",
    "<br>\n",
    "**Post-lab due:** *Wednesday, December 13, 2017 -- 3:50 PM*\n",
    "<hr>\n",
    "\n",
    "<h2>1. Objectives</h2>\n",
    "The objective of this lab is to become familiar with the principles of genetic algorithms (GA), and implement them in some typical applications\n",
    "\n",
    "<h2>2. Expectations</h2>\n",
    "Complete the pre-lab, and hand it in before the lab starts.  A formal lab report is required for this lab, which will be the completed version of this notebook.  There is a marking guide at the end of the lab manual.  If figures are required, label the axes and provide a legend when appropriate.  An abstract, introduction, and conclusion are required as well, for which cells are provided at the end of the notebook.  The abstract should be a brief description of the topic, the introduction a description of the goals of the lab, and the conclusion a summary of what you learned, what you found difficult, and your own ideas and observations.\n",
    "\n",
    "<h2>3. Pre-lab</h2>\n",
    "1. Describe and compare roulette wheel (fitness proportional) and ranked selection mechanisms.\n",
    "\n",
    "<h2>4. Introduction</h2>\n",
    "A genetic algorithm is an approach to machine learning that mimics evolution.  Unlike classical search and optimization methods, a GA begins its search with an initial set of randomly generated candidate solutions to the problem, referred to as *individuals* in a *population*.  Typically, an individual is represented by binary strings, but other encodings can be used (e.g. integers or real numbers).  The method of representation scheme has a major impact on the performance of the GA, as different schemes may cause different performance in terms of accuracy and computation time.\n",
    "<br>\n",
    "Once a random population is initialized, each individual is evaluated and assigned a fitness value, according to a fitness function defined by the user.  This marks the completion of a generation worth of individuals, leading to *crossover* between and *mutation* of individuals in the current generation.  These operations are performed only on selected members of the population, *parents*, typically based on fitness.  Crossover is analogous to reproduction, and involves the mixing of two parents' genetic information.  Mutation consists of changing an individual's representation (e.g. flipping 0 to 1).  Both operations are used to introduce new genetic information into the population such that other solutions are explored, and the algorithm does not settle with a local minimum/maximum.  This procedure is repeated until the maximum number of generations is reached, or a stopping criteria is met, and the best fit individual is chosen as the solution."
   ]
  },
  {
   "cell_type": "markdown",
   "metadata": {},
   "source": [
    "<h2>5. Experimental Procedure</h2>\n",
    "Run the cell below to import the libraries required to complete this lab."
   ]
  },
  {
   "cell_type": "code",
   "execution_count": null,
   "metadata": {
    "collapsed": true
   },
   "outputs": [],
   "source": [
    "import numpy as np              # General math operations\n",
    "import matplotlib.pyplot as plt # Data visualization\n",
    "from pyeasyga import pyeasyga   # Genetic algorithms\n",
    "import random                   # RNG for GA implementation"
   ]
  },
  {
   "cell_type": "markdown",
   "metadata": {},
   "source": [
    "<h4>Exercise 1:&nbsp;&nbsp; Mathematical genetic algorithm</h4>\n",
    "Create a simple genetic algorithm to determine the global minimum of the function: \n",
    "\n",
    "<center>$f(x, y) = -[1 + cos(15r)]e^{-r^2}$, where $r = \\sqrt{x^2 + y^2}$</center>\n",
    "\n",
    "The cell below plots the fitness function to illustrate that there are several local minima, and so traditional gradient descent algorithms could easily get stuck in one of these trenches."
   ]
  },
  {
   "cell_type": "code",
   "execution_count": null,
   "metadata": {
    "collapsed": true
   },
   "outputs": [],
   "source": [
    "import matplotlib.pyplot as plt             # Data visualization\n",
    "from mpl_toolkits.mplot3d import Axes3D     # 3D data visualization\n",
    "\n",
    "x = np.linspace(-2.5, 2.5, num = 101)\n",
    "y = np.linspace(-2.5, 2.5, num = 101)\n",
    "[gX, gY] = np.meshgrid(x, y)\n",
    "fcn = -(1+np.cos(15*np.sqrt(gX**2 + gY**2))) * np.exp(-gX**2 - gY**2)\n",
    "fig = plt.figure()\n",
    "ax = fig.gca(projection = '3d')\n",
    "ax.plot_surface(gX, gY, fcn)\n",
    "ax.set_xlabel('X')\n",
    "ax.set_ylabel('Y')\n",
    "ax.set_zlabel('f(x, y)')\n",
    "ax.set_title('Plot of the Fitness Function')\n",
    "plt.show()"
   ]
  },
  {
   "cell_type": "markdown",
   "metadata": {},
   "source": [
    "The execution of any GA requires the definition of multiple functions: *create_individual*, *selection*, *crossover*, and *mutate*.  The cell below provides the individual creation, mutation, and crossover functions to be used, but the fitness function, along with the GA creation, needs to be programmed.  The GA should be initially built with the following parameters:\n",
    "<ul>\n",
    "    <li>Population size: 30</li>\n",
    "    <li>Generations: 50</li>\n",
    "    <li>Crossover probability: 0.8</li>\n",
    "    <li>Mutation probability: 0.005</li>\n",
    "    <li>Selection: tournament</li>\n",
    "</ul>\n",
    "As for the fitness function, look at the *create_individual* function and understand how each individual is represented.  In addition, think about whether you wish to maximize or minimize the fitness value in your function, and program the GA according to this answer.  It is worth noting that there is no need for input data in this application, so you can initialize the GA with an arbitrary variable.\n",
    "<br>\n",
    "&emsp;1. Complete the GA, according to the above parameters, and run the GA a few times to confirm your results.  What was the best fitness value and solution &emsp;&emsp; that the GA found?"
   ]
  },
  {
   "cell_type": "code",
   "execution_count": null,
   "metadata": {
    "collapsed": true
   },
   "outputs": [],
   "source": [
    "def create_individual(data):\n",
    "    \"\"\" Create a candidate solution representation\n",
    "        Represented as an array of x and y floating-point values from -10 to 10\n",
    "    \"\"\"\n",
    "    individual = np.zeros((2,))\n",
    "    individual[0] = random.uniform(-10, 10)  # X value\n",
    "    individual[1] = random.uniform(-10, 10)  # Y value\n",
    "    return individual\n",
    "\n",
    "def crossover(parent_1, parent_2):\n",
    "    \"\"\" Crossover two parents to produce two children\n",
    "        Performs a weighted arithmetic recombination\n",
    "    \"\"\"\n",
    "    ratio = random.uniform(-1, 1)  # Generate a number from -1 to 1\n",
    "    crossIndices = np.random.choice([0, 1], size=(len(parent_1),), p=[0.5, 0.5])  # Determine if x and/or y value is operated on\n",
    "    child_1 = parent_1\n",
    "    child_2 = parent_2\n",
    "    for i in range(len(crossIndices)):\n",
    "        if (crossIndices[i] == 1):\n",
    "            child_1[i] = child_1[i] + ratio * child_2[i]  # Perform weighted sum\n",
    "            child_2[i] = child_2[i] + ratio * child_1[i]\n",
    "    return child_1, child_2\n",
    "\n",
    "def mutate(individual):\n",
    "    \"\"\" Mutate an individual to introduce new genetic information to the population\n",
    "        Adds a random number from 0 to 9 to each allele in the individual (up to two decimal places)\n",
    "    \"\"\"\n",
    "    mutateIndices = np.random.choice([0, 1], size=(4,), p=[0.8, 0.2])\n",
    "    for index in range(len(mutateIndices)):\n",
    "        if(mutateIndices[index] == 1):\n",
    "            individual[0] += random.randint(1, 9) * (10**(index - 2))\n",
    "            individual[1] += random.randint(1, 9) * (10**(index - 2))\n",
    "\n",
    "def fitness(individual, data):\n",
    "    \"\"\" Calculate fitness of a candidate solution representation\n",
    "    \"\"\""
   ]
  },
  {
   "cell_type": "raw",
   "metadata": {},
   "source": []
  },
  {
   "cell_type": "markdown",
   "metadata": {},
   "source": [
    "&emsp;2. Change both the crossover probability and mutation probability to 0, and run the GA a few times again.  Comment on how this affects the results, and <br>&emsp;&emsp; provide a possible explanation as to why this GA setup does not return the optimal solution."
   ]
  },
  {
   "cell_type": "raw",
   "metadata": {},
   "source": []
  },
  {
   "cell_type": "markdown",
   "metadata": {},
   "source": [
    "&emsp;3. Perform the previous task again, except with the crossover and mutation probability changed to 1."
   ]
  },
  {
   "cell_type": "raw",
   "metadata": {},
   "source": []
  },
  {
   "cell_type": "markdown",
   "metadata": {},
   "source": [
    "<h4>Exercise 2:&nbsp;&nbsp; WSN genetic algorithm</h4>\n",
    "A team of climatologists is trying to optimize the energy usage of their wireless sensor network (WSN) of weather monitoring stations.  Their current setup involves all stations sending their data directly to the base station (BS).  However, they would like to explore the option of assigning cluster heads (CH) to some of these stations.  These CH's would collect the data from nearby regular stations (RS) and send it to the BS such that not every station has to communicate with the BS, thereby optimizing the total communication distance of the network.  In order to determine the optimal setup of both number and location of CH's, they are designing a genetic algorithm with the following parameters:\n",
    "<ul>\n",
    "    <li>Individual representation: binary string</li>\n",
    "    <li>Population size: 80</li>\n",
    "    <li>Generations: 100</li>\n",
    "    <li>Crossover: one-point with probability 0.7</li>\n",
    "    <li>Mutation: bitwise with probability 0.05</li>\n",
    "    <li>Selection: tournament</li>\n",
    "</ul>\n",
    "The GA has been built to solve the WSN routing optimization problem in the cell below.  The base station is located in the centre of a (250, 250) map, with 80 stations assigned randomly around it.\n",
    "<br>\n",
    "An individual is represented as a binary string, with length equal to the number of stations in the network.  A 0 represents a regular station, whereas a 1 represents a cluster head.  Parents are selected using tournament selection, in which individuals are randomly chosen to be compared to another individual, and the most fit individual \"wins\".  For crossover, a single-point method is used, where a point is chosen in a parent's string, and the genetic information is swapped with another parent starting at that point.  Finally, the mutation function flips on average two bits of a chosen parent anywhere in its string.\n",
    "<br>\n",
    "The GA aims to maximize a fitness function based on the communication distance difference between the previous method (all stations to BS) and the new method (RS to CH, and CH to BS), as well as the difference between the total number of stations and the number of CH's used.\n",
    "<br>\n",
    "Once it has undergone the specified number of generations, the GA determines what the best solution is, and the optimal routing scheme is displayed.\n",
    "<br>\n",
    "&emsp;1. Run the script to call the GA and determine the optimal clustering and routing for the WSN.  Include the plot of the final results in your report."
   ]
  },
  {
   "cell_type": "code",
   "execution_count": null,
   "metadata": {
    "collapsed": true
   },
   "outputs": [],
   "source": [
    "def create_individual(data):\n",
    "    \"\"\" Create a candidate solution representation\n",
    "        0 = regular station; 1 = cluster head\n",
    "        Represented as a binary sequence with ~25% 1's\n",
    "    \"\"\"\n",
    "    individual = np.random.choice([0, 1], size = (len(data),), p = [0.75, 0.25])\n",
    "    return individual\n",
    "\n",
    "def crossover(parent_1, parent_2):\n",
    "    \"\"\" Crossover two parents to produce two children\n",
    "        Implements single point crossover\n",
    "    \"\"\"\n",
    "    index = random.randrange(1, len(parent_1))\n",
    "    child_1 = np.append(parent_1[:index], parent_2[index:])\n",
    "    child_2 = np.append(parent_2[:index], parent_1[index:])\n",
    "    return child_1, child_2\n",
    "\n",
    "def mutate(individual):\n",
    "    \"\"\" Mutate an individual to introduce new genetic information to the population\n",
    "        Flips on average 2 bits in the individual\n",
    "    \"\"\"\n",
    "    noStations = len(individual)\n",
    "    for i in range(noStations):\n",
    "        if (random.randint(0, noStations) % noStations == 0):  # ~2 bits mutated within the individual\n",
    "            individual[i] ^= 1  # Swap the current bit using XOR operator\n",
    "\n",
    "def fitness(individual, data):\n",
    "    \"\"\" Calculate fitness of a candidate solution representation\n",
    "        Based on the difference between no clustering and clustering\n",
    "    \"\"\"\n",
    "    totDist = np.sum(data[:, 2])  # Total distance of all stations to the base station (BS) [D]\n",
    "    noStations = len(individual)  # Total number of stations [N]\n",
    "    noCH = np.sum(individual)  # Total number of cluster heads (CH) [H_i]\n",
    "\n",
    "    # If no CH's are assigned, return a fitness value of 0\n",
    "    if (noCH == 0):\n",
    "        fitness = 0\n",
    "        return fitness\n",
    "\n",
    "    chIndices = np.transpose(np.nonzero(individual))  # Find indices of the stations that are CH's\n",
    "    minDist = np.zeros((noStations, 1))\n",
    "    chBSDist = np.zeros((noCH, 1))\n",
    "\n",
    "    # Get distance of each CH to the BS\n",
    "    for k in range(noCH):\n",
    "        chBSDist[k] = data[chIndices[k], 2]\n",
    "\n",
    "    # Calculate the distance between each station and the CH's to determine the nearest CH\n",
    "    temp = np.zeros((noCH, 1))\n",
    "    for i in range(noStations):\n",
    "        for j in range(noCH):\n",
    "            temp[j] = distMap[i, chIndices[j]]  # Store distance between a station and each CH\n",
    "        minDist[i] = np.amin(temp)  # Determine the closest CH to the current station\n",
    "\n",
    "    newDist = np.sum(chBSDist) + np.sum(minDist)  # Sum of distances from stations to CH's + CH's to BS [distance_i]\n",
    "\n",
    "    fitness = (totDist-newDist) + (noStations-noCH)  # Fitness value to be maximized [D-distance_i + N-H_i]\n",
    "    return fitness\n",
    "\n",
    "def mapRoute(individual, data):\n",
    "    \"\"\" Displays the routed results given an individual and the input data\n",
    "    \"\"\"\n",
    "    chIndices = np.transpose(np.nonzero(individual))  # Find indices of the stations that are CH's\n",
    "    noCH = len(chIndices)\n",
    "    noStations = len(individual)\n",
    "\n",
    "    stationConnectivity = np.zeros((noStations+1, noStations+1))  # 0 = not connected; 1 = station-CH; 2 = CH-BS; last element refers to BS\n",
    "\n",
    "    # Determine station-CH connectivity\n",
    "    temp = np.zeros((noCH, 1))\n",
    "    for i in range(noStations):\n",
    "        for j in range(noCH):\n",
    "            temp[j] = distMap[i, chIndices[j]]  # Store distance between a station and each CH\n",
    "        if (np.amin(temp) == 0):  # Ignore if the current station is a CH\n",
    "            continue\n",
    "        chIndex = chIndices[np.argmin(temp)]\n",
    "        stationConnectivity[i,chIndex] = 1\n",
    "        stationConnectivity[chIndex, i] = 1\n",
    "\n",
    "    # Begin plotting the data\n",
    "    fig, ax = plt.subplots()\n",
    "    stationHandle ,= plt.plot(data[:, 0], data[:, 1], 'bo', label = 'RS')  # Regular stations in blue\n",
    "    bsHandle ,= plt.plot(bsCoords[0], bsCoords[1], 'ro', label = 'BS')  # Base station in red\n",
    "\n",
    "    # Determine CH -> BS connectivity\n",
    "    for k in range(noCH):\n",
    "        chIndex = chIndices[k]\n",
    "        stationConnectivity[chIndex, -1] = 2\n",
    "        stationConnectivity[-1, chIndex] = 2\n",
    "        chHandle ,= plt.plot(data[chIndex, 0], data[chIndex, 1], 'go', label = 'CH')  # Cluster heads in green\n",
    "\n",
    "    # Plot station connections\n",
    "    for i in range(1, len(stationConnectivity)):\n",
    "        for j in range(i):\n",
    "            if (stationConnectivity[i, j] == 1):\n",
    "                rsCHHandle ,= plt.plot([data[i, 0], data[j, 0]], [data[i, 1], data[j, 1]], color = 'k', linewidth = 1, label = 'RS-CH')\n",
    "            if (stationConnectivity[i, j] == 2):\n",
    "                chBSHandle ,= plt.plot([bsCoords[0], data[j, 0]], [bsCoords[1], data[j, 1]], color = 'c', linewidth = 1, label = 'CH-BS')\n",
    "    plt.xlabel('X Coordinate')\n",
    "    plt.ylabel('Y Coordinate')\n",
    "    plt.title('Wireless Sensor Network Clustering and Routing Map')\n",
    "    plt.legend(bbox_to_anchor = (1.01, 1), loc = 2, borderaxespad = 0., handles = [stationHandle, bsHandle, chHandle, rsCHHandle, chBSHandle])\n",
    "    plt.show()\n",
    "\n",
    "\n",
    "noStations = 80  # Number of stations to route\n",
    "\n",
    "stationInfo = np.zeros((noStations, 3))  # [x, y, dist to BS]\n",
    "distMap = np.zeros((noStations, noStations))  # Distance between stations\n",
    "bsCoords = np.array([125, 125])  # Base station coordinates at (125, 125)\n",
    "\n",
    "random.seed(1)  # Set seed for consistent coordinates\n",
    "\n",
    "# Assign random station coordinates and calculate the distances between stations\n",
    "for i in range(len(stationInfo)):\n",
    "    stationInfo[i, 0] = random.randint(0, 250)\n",
    "    stationInfo[i, 1] = random.randint(0, 250)\n",
    "    stationInfo[i, 2] = np.linalg.norm(stationInfo[i, 0:2] - bsCoords)\n",
    "\n",
    "    for j in range(i + 1):\n",
    "        distMap[i, j] = np.linalg.norm(stationInfo[i, 0:2] - stationInfo[j, 0:2])\n",
    "        distMap[j, i] = distMap[i, j]\n",
    "\n",
    "# Show location of stations\n",
    "stationPlt = plt.scatter(stationInfo[:, 0], stationInfo[:, 1], c = 'b')\n",
    "bsPlt = plt.scatter(bsCoords[0], bsCoords[1], c = 'r')\n",
    "plt.xlabel('X Coordinate')\n",
    "plt.ylabel('Y Coordinate')\n",
    "plt.title('Station Locations')\n",
    "plt.show()\n",
    "\n",
    "# Create the GA\n",
    "ga = pyeasyga.GeneticAlgorithm(stationInfo,  # Input data\n",
    "                               population_size = 80,\n",
    "                               generations = 100,\n",
    "                               crossover_probability = 0.7,\n",
    "                               mutation_probability = 0.005,\n",
    "                               maximise_fitness = True\n",
    "                               )\n",
    "\n",
    "# Set the appropriate parameters for the GA\n",
    "ga.create_individual = create_individual\n",
    "ga.crossover_function = crossover\n",
    "ga.mutate_function = mutate\n",
    "ga.selection_function = ga.tournament_selection\n",
    "ga.fitness_function = fitness\n",
    "\n",
    "# Run the network and print the best individual\n",
    "ga.run()\n",
    "bestSoln = ga.best_individual()\n",
    "print(\"Fitness = \", bestSoln[0])\n",
    "print(\"Solution = \", bestSoln[1])\n",
    "\n",
    "# Display routing results\n",
    "mapRoute(ga.best_individual()[1], stationInfo)"
   ]
  },
  {
   "cell_type": "markdown",
   "metadata": {},
   "source": [
    "&emsp;2. Summarize the pros and cons of using a GA as a problem solving technique."
   ]
  },
  {
   "cell_type": "markdown",
   "metadata": {},
   "source": []
  },
  {
   "cell_type": "markdown",
   "metadata": {},
   "source": [
    "<hr>\n",
    "<hr>"
   ]
  },
  {
   "cell_type": "markdown",
   "metadata": {},
   "source": [
    "<h2>Abstract</h2>"
   ]
  },
  {
   "cell_type": "raw",
   "metadata": {},
   "source": []
  },
  {
   "cell_type": "markdown",
   "metadata": {},
   "source": [
    "<h2>Introduction</h2>"
   ]
  },
  {
   "cell_type": "raw",
   "metadata": {},
   "source": []
  },
  {
   "cell_type": "markdown",
   "metadata": {},
   "source": [
    "<h2>Conclusion</h2>"
   ]
  },
  {
   "cell_type": "raw",
   "metadata": {},
   "source": []
  }
 ],
 "metadata": {
  "kernelspec": {
   "display_name": "Python 3",
   "language": "python",
   "name": "python3"
  },
  "language_info": {
   "codemirror_mode": {
    "name": "ipython",
    "version": 3
   },
   "file_extension": ".py",
   "mimetype": "text/x-python",
   "name": "python",
   "nbconvert_exporter": "python",
   "pygments_lexer": "ipython3",
   "version": "3.6.2"
  }
 },
 "nbformat": 4,
 "nbformat_minor": 2
}
